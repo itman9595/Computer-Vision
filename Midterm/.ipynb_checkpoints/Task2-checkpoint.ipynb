{
 "cells": [
  {
   "cell_type": "code",
   "execution_count": 3,
   "metadata": {},
   "outputs": [
    {
     "data": {
      "image/png": "[encoded data removed]",
      "text/plain": [
       "<matplotlib.figure.Figure at 0x108a2fef0>"
      ]
     },
     "metadata": {},
     "output_type": "display_data"
    }
   ],
   "source": [
    "from scipy import ndimage \n",
    "import numpy as np \n",
    "import matplotlib.image as img \n",
    "import matplotlib.pyplot as plt \n",
    "from skimage import color \n",
    "from skimage import io \n",
    "from skimage import util\n",
    "\n",
    "import matplotlib.image as pltimg\n",
    "im = io.imread('shawnMendes.png', as_grey=True) \n",
    "plt.hist(im.ravel(),256,[0,256], color = 'r');\n",
    "plt.show()"
   ]
  }
 ],
 "metadata": {
  "kernelspec": {
   "display_name": "Python 3",
   "language": "python",
   "name": "python3"
  },
  "language_info": {
   "codemirror_mode": {
    "name": "ipython",
    "version": 3
   },
   "file_extension": ".py",
   "mimetype": "text/x-python",
   "name": "python",
   "nbconvert_exporter": "python",
   "pygments_lexer": "ipython3",
   "version": "3.6.1"
  }
 },
 "nbformat": 4,
 "nbformat_minor": 2
}
