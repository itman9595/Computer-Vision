{
 "cells": [
  {
   "cell_type": "code",
   "execution_count": null,
   "metadata": {
    "collapsed": true
   },
   "outputs": [],
   "source": [
    "fig = plt.figure(figsize=(15,10)) \n",
    "bins = np.histogram(image.flatten()) \n",
    "plt.hist(image.flatten(), bins=100) \n",
    "\n",
    "bins = np.histogram(img_s_p.flatten()) \n",
    "plt.hist(image_s_p.flatten(), bins=100) \n",
    "\n",
    "bins = np.histogram(flt.flatten()) \n",
    "plt.hist(flt.flatten(), bins=100) "
   ]
  }
 ],
 "metadata": {
  "kernelspec": {
   "display_name": "Python 3",
   "language": "python",
   "name": "python3"
  },
  "language_info": {
   "codemirror_mode": {
    "name": "ipython",
    "version": 3
   },
   "file_extension": ".py",
   "mimetype": "text/x-python",
   "name": "python",
   "nbconvert_exporter": "python",
   "pygments_lexer": "ipython3",
   "version": "3.6.1"
  }
 },
 "nbformat": 4,
 "nbformat_minor": 2
}
